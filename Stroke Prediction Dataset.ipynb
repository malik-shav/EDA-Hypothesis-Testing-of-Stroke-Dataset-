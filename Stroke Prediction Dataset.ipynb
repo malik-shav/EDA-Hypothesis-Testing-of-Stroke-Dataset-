{
 "cells": [
  {
   "cell_type": "code",
   "execution_count": 1,
   "id": "8cc375f2-c6ce-481a-9383-a6d4e7d179b7",
   "metadata": {},
   "outputs": [],
   "source": [
    "#Import the necessary libraries\n",
    "\n",
    "import numpy as np\n",
    "import pandas as pd\n",
    "\n",
    "import matplotlib.pyplot as plt\n",
    "import seaborn as sns\n",
    "\n",
    "from scipy import stats\n",
    "from scipy.stats import chi2_contingency\n",
    "\n",
    "from sklearn.preprocessing import StandardScaler\n",
    "from sklearn.decomposition import PCA\n",
    "\n",
    "import warnings\n",
    "warnings.filterwarnings(\"ignore\")"
   ]
  },
  {
   "cell_type": "code",
   "execution_count": 2,
   "id": "0b28437c-b23b-44a1-9175-43dd772ab7ad",
   "metadata": {},
   "outputs": [],
   "source": [
    "#Load the dataset\n",
    "stroke_data=pd.read_csv(\"stroke_data.csv\")"
   ]
  },
  {
   "cell_type": "code",
   "execution_count": 3,
   "id": "4660a511-b4ac-4bb1-8f36-aa1885332e94",
   "metadata": {},
   "outputs": [
    {
     "name": "stdout",
     "output_type": "stream",
     "text": [
      "<class 'pandas.core.frame.DataFrame'>\n",
      "RangeIndex: 5110 entries, 0 to 5109\n",
      "Data columns (total 12 columns):\n",
      " #   Column             Non-Null Count  Dtype  \n",
      "---  ------             --------------  -----  \n",
      " 0   id                 5110 non-null   int64  \n",
      " 1   gender             5110 non-null   object \n",
      " 2   age                5110 non-null   float64\n",
      " 3   hypertension       5110 non-null   int64  \n",
      " 4   heart_disease      5110 non-null   int64  \n",
      " 5   ever_married       5110 non-null   object \n",
      " 6   work_type          5110 non-null   object \n",
      " 7   Residence_type     5110 non-null   object \n",
      " 8   avg_glucose_level  5110 non-null   float64\n",
      " 9   bmi                4909 non-null   float64\n",
      " 10  smoking_status     5110 non-null   object \n",
      " 11  stroke             5110 non-null   int64  \n",
      "dtypes: float64(3), int64(4), object(5)\n",
      "memory usage: 479.2+ KB\n"
     ]
    },
    {
     "data": {
      "text/html": [
       "<div>\n",
       "<style scoped>\n",
       "    .dataframe tbody tr th:only-of-type {\n",
       "        vertical-align: middle;\n",
       "    }\n",
       "\n",
       "    .dataframe tbody tr th {\n",
       "        vertical-align: top;\n",
       "    }\n",
       "\n",
       "    .dataframe thead th {\n",
       "        text-align: right;\n",
       "    }\n",
       "</style>\n",
       "<table border=\"1\" class=\"dataframe\">\n",
       "  <thead>\n",
       "    <tr style=\"text-align: right;\">\n",
       "      <th></th>\n",
       "      <th>id</th>\n",
       "      <th>gender</th>\n",
       "      <th>age</th>\n",
       "      <th>hypertension</th>\n",
       "      <th>heart_disease</th>\n",
       "      <th>ever_married</th>\n",
       "      <th>work_type</th>\n",
       "      <th>Residence_type</th>\n",
       "      <th>avg_glucose_level</th>\n",
       "      <th>bmi</th>\n",
       "      <th>smoking_status</th>\n",
       "      <th>stroke</th>\n",
       "    </tr>\n",
       "  </thead>\n",
       "  <tbody>\n",
       "    <tr>\n",
       "      <th>0</th>\n",
       "      <td>9046</td>\n",
       "      <td>Male</td>\n",
       "      <td>67.0</td>\n",
       "      <td>0</td>\n",
       "      <td>1</td>\n",
       "      <td>Yes</td>\n",
       "      <td>Private</td>\n",
       "      <td>Urban</td>\n",
       "      <td>228.69</td>\n",
       "      <td>36.6</td>\n",
       "      <td>formerly smoked</td>\n",
       "      <td>1</td>\n",
       "    </tr>\n",
       "    <tr>\n",
       "      <th>1</th>\n",
       "      <td>51676</td>\n",
       "      <td>Female</td>\n",
       "      <td>61.0</td>\n",
       "      <td>0</td>\n",
       "      <td>0</td>\n",
       "      <td>Yes</td>\n",
       "      <td>Self-employed</td>\n",
       "      <td>Rural</td>\n",
       "      <td>202.21</td>\n",
       "      <td>NaN</td>\n",
       "      <td>never smoked</td>\n",
       "      <td>1</td>\n",
       "    </tr>\n",
       "    <tr>\n",
       "      <th>2</th>\n",
       "      <td>31112</td>\n",
       "      <td>Male</td>\n",
       "      <td>80.0</td>\n",
       "      <td>0</td>\n",
       "      <td>1</td>\n",
       "      <td>Yes</td>\n",
       "      <td>Private</td>\n",
       "      <td>Rural</td>\n",
       "      <td>105.92</td>\n",
       "      <td>32.5</td>\n",
       "      <td>never smoked</td>\n",
       "      <td>1</td>\n",
       "    </tr>\n",
       "    <tr>\n",
       "      <th>3</th>\n",
       "      <td>60182</td>\n",
       "      <td>Female</td>\n",
       "      <td>49.0</td>\n",
       "      <td>0</td>\n",
       "      <td>0</td>\n",
       "      <td>Yes</td>\n",
       "      <td>Private</td>\n",
       "      <td>Urban</td>\n",
       "      <td>171.23</td>\n",
       "      <td>34.4</td>\n",
       "      <td>smokes</td>\n",
       "      <td>1</td>\n",
       "    </tr>\n",
       "    <tr>\n",
       "      <th>4</th>\n",
       "      <td>1665</td>\n",
       "      <td>Female</td>\n",
       "      <td>79.0</td>\n",
       "      <td>1</td>\n",
       "      <td>0</td>\n",
       "      <td>Yes</td>\n",
       "      <td>Self-employed</td>\n",
       "      <td>Rural</td>\n",
       "      <td>174.12</td>\n",
       "      <td>24.0</td>\n",
       "      <td>never smoked</td>\n",
       "      <td>1</td>\n",
       "    </tr>\n",
       "  </tbody>\n",
       "</table>\n",
       "</div>"
      ],
      "text/plain": [
       "      id  gender   age  hypertension  heart_disease ever_married  \\\n",
       "0   9046    Male  67.0             0              1          Yes   \n",
       "1  51676  Female  61.0             0              0          Yes   \n",
       "2  31112    Male  80.0             0              1          Yes   \n",
       "3  60182  Female  49.0             0              0          Yes   \n",
       "4   1665  Female  79.0             1              0          Yes   \n",
       "\n",
       "       work_type Residence_type  avg_glucose_level   bmi   smoking_status  \\\n",
       "0        Private          Urban             228.69  36.6  formerly smoked   \n",
       "1  Self-employed          Rural             202.21   NaN     never smoked   \n",
       "2        Private          Rural             105.92  32.5     never smoked   \n",
       "3        Private          Urban             171.23  34.4           smokes   \n",
       "4  Self-employed          Rural             174.12  24.0     never smoked   \n",
       "\n",
       "   stroke  \n",
       "0       1  \n",
       "1       1  \n",
       "2       1  \n",
       "3       1  \n",
       "4       1  "
      ]
     },
     "execution_count": 3,
     "metadata": {},
     "output_type": "execute_result"
    }
   ],
   "source": [
    "#Let get basic information about the data using .info() and .head()\n",
    "stroke_data.info()\n",
    "stroke_data.head(5) #Printing 5 rows of the data"
   ]
  },
  {
   "cell_type": "code",
   "execution_count": 4,
   "id": "183cf5ff-9db0-4691-81af-1a44c118ce80",
   "metadata": {},
   "outputs": [
    {
     "data": {
      "text/plain": [
       "id                     0\n",
       "gender                 0\n",
       "age                    0\n",
       "hypertension           0\n",
       "heart_disease          0\n",
       "ever_married           0\n",
       "work_type              0\n",
       "Residence_type         0\n",
       "avg_glucose_level      0\n",
       "bmi                  201\n",
       "smoking_status         0\n",
       "stroke                 0\n",
       "dtype: int64"
      ]
     },
     "execution_count": 4,
     "metadata": {},
     "output_type": "execute_result"
    }
   ],
   "source": [
    "#Checking if data contains null values\n",
    "stroke_data.isnull().sum()"
   ]
  },
  {
   "cell_type": "code",
   "execution_count": 5,
   "id": "876d3ba8-21bf-41c7-aca6-2477dc824956",
   "metadata": {},
   "outputs": [
    {
     "name": "stdout",
     "output_type": "stream",
     "text": [
      "Shape of the stroke dataset:  (5110, 12)\n"
     ]
    }
   ],
   "source": [
    "#Shape of stroke dataset\n",
    "print(\"Shape of the stroke dataset: \",stroke_data.shape)"
   ]
  },
  {
   "cell_type": "markdown",
   "id": "40a7f8a3-2795-47ea-9d69-61f304823a35",
   "metadata": {},
   "source": [
    "-Data is composed of 5110 rows and 12 column, with the last column indicated the stroke status of an individual. \n",
    "\n",
    "-Columns contain both object and numerical datatypes. \n",
    "\n",
    "-Column \"bmi\" contains 201 null values. "
   ]
  },
  {
   "cell_type": "code",
   "execution_count": 6,
   "id": "9c8d6bc0-ba74-4ad4-aa5d-76332bac73dd",
   "metadata": {},
   "outputs": [
    {
     "data": {
      "text/html": [
       "<div>\n",
       "<style scoped>\n",
       "    .dataframe tbody tr th:only-of-type {\n",
       "        vertical-align: middle;\n",
       "    }\n",
       "\n",
       "    .dataframe tbody tr th {\n",
       "        vertical-align: top;\n",
       "    }\n",
       "\n",
       "    .dataframe thead th {\n",
       "        text-align: right;\n",
       "    }\n",
       "</style>\n",
       "<table border=\"1\" class=\"dataframe\">\n",
       "  <thead>\n",
       "    <tr style=\"text-align: right;\">\n",
       "      <th></th>\n",
       "      <th>id</th>\n",
       "      <th>age</th>\n",
       "      <th>hypertension</th>\n",
       "      <th>heart_disease</th>\n",
       "      <th>avg_glucose_level</th>\n",
       "      <th>bmi</th>\n",
       "      <th>stroke</th>\n",
       "    </tr>\n",
       "  </thead>\n",
       "  <tbody>\n",
       "    <tr>\n",
       "      <th>count</th>\n",
       "      <td>5110.000000</td>\n",
       "      <td>5110.000000</td>\n",
       "      <td>5110.000000</td>\n",
       "      <td>5110.000000</td>\n",
       "      <td>5110.000000</td>\n",
       "      <td>4909.000000</td>\n",
       "      <td>5110.000000</td>\n",
       "    </tr>\n",
       "    <tr>\n",
       "      <th>mean</th>\n",
       "      <td>36517.829354</td>\n",
       "      <td>43.226614</td>\n",
       "      <td>0.097456</td>\n",
       "      <td>0.054012</td>\n",
       "      <td>106.147677</td>\n",
       "      <td>28.893237</td>\n",
       "      <td>0.048728</td>\n",
       "    </tr>\n",
       "    <tr>\n",
       "      <th>std</th>\n",
       "      <td>21161.721625</td>\n",
       "      <td>22.612647</td>\n",
       "      <td>0.296607</td>\n",
       "      <td>0.226063</td>\n",
       "      <td>45.283560</td>\n",
       "      <td>7.854067</td>\n",
       "      <td>0.215320</td>\n",
       "    </tr>\n",
       "    <tr>\n",
       "      <th>min</th>\n",
       "      <td>67.000000</td>\n",
       "      <td>0.080000</td>\n",
       "      <td>0.000000</td>\n",
       "      <td>0.000000</td>\n",
       "      <td>55.120000</td>\n",
       "      <td>10.300000</td>\n",
       "      <td>0.000000</td>\n",
       "    </tr>\n",
       "    <tr>\n",
       "      <th>25%</th>\n",
       "      <td>17741.250000</td>\n",
       "      <td>25.000000</td>\n",
       "      <td>0.000000</td>\n",
       "      <td>0.000000</td>\n",
       "      <td>77.245000</td>\n",
       "      <td>23.500000</td>\n",
       "      <td>0.000000</td>\n",
       "    </tr>\n",
       "    <tr>\n",
       "      <th>50%</th>\n",
       "      <td>36932.000000</td>\n",
       "      <td>45.000000</td>\n",
       "      <td>0.000000</td>\n",
       "      <td>0.000000</td>\n",
       "      <td>91.885000</td>\n",
       "      <td>28.100000</td>\n",
       "      <td>0.000000</td>\n",
       "    </tr>\n",
       "    <tr>\n",
       "      <th>75%</th>\n",
       "      <td>54682.000000</td>\n",
       "      <td>61.000000</td>\n",
       "      <td>0.000000</td>\n",
       "      <td>0.000000</td>\n",
       "      <td>114.090000</td>\n",
       "      <td>33.100000</td>\n",
       "      <td>0.000000</td>\n",
       "    </tr>\n",
       "    <tr>\n",
       "      <th>max</th>\n",
       "      <td>72940.000000</td>\n",
       "      <td>82.000000</td>\n",
       "      <td>1.000000</td>\n",
       "      <td>1.000000</td>\n",
       "      <td>271.740000</td>\n",
       "      <td>97.600000</td>\n",
       "      <td>1.000000</td>\n",
       "    </tr>\n",
       "  </tbody>\n",
       "</table>\n",
       "</div>"
      ],
      "text/plain": [
       "                 id          age  hypertension  heart_disease  \\\n",
       "count   5110.000000  5110.000000   5110.000000    5110.000000   \n",
       "mean   36517.829354    43.226614      0.097456       0.054012   \n",
       "std    21161.721625    22.612647      0.296607       0.226063   \n",
       "min       67.000000     0.080000      0.000000       0.000000   \n",
       "25%    17741.250000    25.000000      0.000000       0.000000   \n",
       "50%    36932.000000    45.000000      0.000000       0.000000   \n",
       "75%    54682.000000    61.000000      0.000000       0.000000   \n",
       "max    72940.000000    82.000000      1.000000       1.000000   \n",
       "\n",
       "       avg_glucose_level          bmi       stroke  \n",
       "count        5110.000000  4909.000000  5110.000000  \n",
       "mean          106.147677    28.893237     0.048728  \n",
       "std            45.283560     7.854067     0.215320  \n",
       "min            55.120000    10.300000     0.000000  \n",
       "25%            77.245000    23.500000     0.000000  \n",
       "50%            91.885000    28.100000     0.000000  \n",
       "75%           114.090000    33.100000     0.000000  \n",
       "max           271.740000    97.600000     1.000000  "
      ]
     },
     "execution_count": 6,
     "metadata": {},
     "output_type": "execute_result"
    }
   ],
   "source": [
    "# Get descriptive statistics of the data\n",
    "stroke_data.describe()"
   ]
  },
  {
   "cell_type": "code",
   "execution_count": 7,
   "id": "be21fc31-6bcf-4580-8d0a-e0a0f8d9eab3",
   "metadata": {},
   "outputs": [],
   "source": [
    "#The differences between bmi min and max is too high, so, I am going to delete the rows with missing values\n",
    "stroke_data.dropna(inplace=True)"
   ]
  },
  {
   "cell_type": "code",
   "execution_count": 8,
   "id": "45726e89-6862-4008-abdf-7e25e93d48d5",
   "metadata": {},
   "outputs": [],
   "source": [
    "#Also delete id column. It has no purpose.\n",
    "stroke_data.drop(\"id\", axis=1, inplace=True)"
   ]
  },
  {
   "cell_type": "code",
   "execution_count": 9,
   "id": "8db4e7af-5640-4a87-a1e2-b6ec1455a8bc",
   "metadata": {},
   "outputs": [],
   "source": [
    "stroke_data=stroke_data.reset_index(drop=True)"
   ]
  },
  {
   "cell_type": "code",
   "execution_count": 10,
   "id": "b5c253aa-b40f-4f87-82e6-d62ab50ad807",
   "metadata": {},
   "outputs": [
    {
     "data": {
      "text/html": [
       "<div>\n",
       "<style scoped>\n",
       "    .dataframe tbody tr th:only-of-type {\n",
       "        vertical-align: middle;\n",
       "    }\n",
       "\n",
       "    .dataframe tbody tr th {\n",
       "        vertical-align: top;\n",
       "    }\n",
       "\n",
       "    .dataframe thead th {\n",
       "        text-align: right;\n",
       "    }\n",
       "</style>\n",
       "<table border=\"1\" class=\"dataframe\">\n",
       "  <thead>\n",
       "    <tr style=\"text-align: right;\">\n",
       "      <th></th>\n",
       "      <th>gender</th>\n",
       "      <th>age</th>\n",
       "      <th>hypertension</th>\n",
       "      <th>heart_disease</th>\n",
       "      <th>ever_married</th>\n",
       "      <th>work_type</th>\n",
       "      <th>Residence_type</th>\n",
       "      <th>avg_glucose_level</th>\n",
       "      <th>bmi</th>\n",
       "      <th>smoking_status</th>\n",
       "      <th>stroke</th>\n",
       "    </tr>\n",
       "  </thead>\n",
       "  <tbody>\n",
       "    <tr>\n",
       "      <th>0</th>\n",
       "      <td>Male</td>\n",
       "      <td>67.0</td>\n",
       "      <td>0</td>\n",
       "      <td>1</td>\n",
       "      <td>Yes</td>\n",
       "      <td>Private</td>\n",
       "      <td>Urban</td>\n",
       "      <td>228.69</td>\n",
       "      <td>36.6</td>\n",
       "      <td>formerly smoked</td>\n",
       "      <td>1</td>\n",
       "    </tr>\n",
       "    <tr>\n",
       "      <th>1</th>\n",
       "      <td>Male</td>\n",
       "      <td>80.0</td>\n",
       "      <td>0</td>\n",
       "      <td>1</td>\n",
       "      <td>Yes</td>\n",
       "      <td>Private</td>\n",
       "      <td>Rural</td>\n",
       "      <td>105.92</td>\n",
       "      <td>32.5</td>\n",
       "      <td>never smoked</td>\n",
       "      <td>1</td>\n",
       "    </tr>\n",
       "    <tr>\n",
       "      <th>2</th>\n",
       "      <td>Female</td>\n",
       "      <td>49.0</td>\n",
       "      <td>0</td>\n",
       "      <td>0</td>\n",
       "      <td>Yes</td>\n",
       "      <td>Private</td>\n",
       "      <td>Urban</td>\n",
       "      <td>171.23</td>\n",
       "      <td>34.4</td>\n",
       "      <td>smokes</td>\n",
       "      <td>1</td>\n",
       "    </tr>\n",
       "    <tr>\n",
       "      <th>3</th>\n",
       "      <td>Female</td>\n",
       "      <td>79.0</td>\n",
       "      <td>1</td>\n",
       "      <td>0</td>\n",
       "      <td>Yes</td>\n",
       "      <td>Self-employed</td>\n",
       "      <td>Rural</td>\n",
       "      <td>174.12</td>\n",
       "      <td>24.0</td>\n",
       "      <td>never smoked</td>\n",
       "      <td>1</td>\n",
       "    </tr>\n",
       "    <tr>\n",
       "      <th>4</th>\n",
       "      <td>Male</td>\n",
       "      <td>81.0</td>\n",
       "      <td>0</td>\n",
       "      <td>0</td>\n",
       "      <td>Yes</td>\n",
       "      <td>Private</td>\n",
       "      <td>Urban</td>\n",
       "      <td>186.21</td>\n",
       "      <td>29.0</td>\n",
       "      <td>formerly smoked</td>\n",
       "      <td>1</td>\n",
       "    </tr>\n",
       "  </tbody>\n",
       "</table>\n",
       "</div>"
      ],
      "text/plain": [
       "   gender   age  hypertension  heart_disease ever_married      work_type  \\\n",
       "0    Male  67.0             0              1          Yes        Private   \n",
       "1    Male  80.0             0              1          Yes        Private   \n",
       "2  Female  49.0             0              0          Yes        Private   \n",
       "3  Female  79.0             1              0          Yes  Self-employed   \n",
       "4    Male  81.0             0              0          Yes        Private   \n",
       "\n",
       "  Residence_type  avg_glucose_level   bmi   smoking_status  stroke  \n",
       "0          Urban             228.69  36.6  formerly smoked       1  \n",
       "1          Rural             105.92  32.5     never smoked       1  \n",
       "2          Urban             171.23  34.4           smokes       1  \n",
       "3          Rural             174.12  24.0     never smoked       1  \n",
       "4          Urban             186.21  29.0  formerly smoked       1  "
      ]
     },
     "execution_count": 10,
     "metadata": {},
     "output_type": "execute_result"
    }
   ],
   "source": [
    "stroke_data.head()"
   ]
  },
  {
   "cell_type": "code",
   "execution_count": 11,
   "id": "353031f0-cde0-4e60-9cfb-3023329f0378",
   "metadata": {},
   "outputs": [
    {
     "data": {
      "text/plain": [
       "0    95.742514\n",
       "1     4.257486\n",
       "Name: stroke, dtype: float64"
      ]
     },
     "execution_count": 11,
     "metadata": {},
     "output_type": "execute_result"
    }
   ],
   "source": [
    "stroke_data.stroke.value_counts()/(stroke_data.stroke.value_counts().sum())*100"
   ]
  },
  {
   "cell_type": "code",
   "execution_count": 12,
   "id": "8520602e-247e-4e8b-9dcf-eef5e0894b18",
   "metadata": {},
   "outputs": [
    {
     "data": {
      "text/plain": [
       "<AxesSubplot:>"
      ]
     },
     "execution_count": 12,
     "metadata": {},
     "output_type": "execute_result"
    },
    {
     "data": {
      "image/png": "[encoded data removed]",
      "text/plain": [
       "<Figure size 432x288 with 1 Axes>"
      ]
     },
     "metadata": {
      "needs_background": "light"
     },
     "output_type": "display_data"
    }
   ],
   "source": [
    "#Lets first understand the target variable\n",
    "stroke_data.stroke.value_counts().plot.bar(color=[\"blue\",\"red\"])"
   ]
  },
  {
   "cell_type": "code",
   "execution_count": null,
   "id": "dd001696-1b45-4d28-b4b5-7177c96e0e2e",
   "metadata": {},
   "outputs": [],
   "source": []
  },
  {
   "cell_type": "markdown",
   "id": "cfe4fda2-ec4a-4b48-bf75-cc5a1411fc71",
   "metadata": {},
   "source": [
    "The population of individuals who had a stroke are substantially lower than individuals who did not get a stroke. The data is imbalanced."
   ]
  },
  {
   "cell_type": "code",
   "execution_count": 13,
   "id": "befb3966-7aee-4ce6-98bc-0a9fc867f4af",
   "metadata": {},
   "outputs": [
    {
     "data": {
      "text/html": [
       "<div>\n",
       "<style scoped>\n",
       "    .dataframe tbody tr th:only-of-type {\n",
       "        vertical-align: middle;\n",
       "    }\n",
       "\n",
       "    .dataframe tbody tr th {\n",
       "        vertical-align: top;\n",
       "    }\n",
       "\n",
       "    .dataframe thead th {\n",
       "        text-align: right;\n",
       "    }\n",
       "</style>\n",
       "<table border=\"1\" class=\"dataframe\">\n",
       "  <thead>\n",
       "    <tr style=\"text-align: right;\">\n",
       "      <th></th>\n",
       "      <th>age</th>\n",
       "      <th>avg_glucose_level</th>\n",
       "      <th>bmi</th>\n",
       "    </tr>\n",
       "  </thead>\n",
       "  <tbody>\n",
       "    <tr>\n",
       "      <th>0</th>\n",
       "      <td>67.0</td>\n",
       "      <td>228.69</td>\n",
       "      <td>36.6</td>\n",
       "    </tr>\n",
       "    <tr>\n",
       "      <th>1</th>\n",
       "      <td>80.0</td>\n",
       "      <td>105.92</td>\n",
       "      <td>32.5</td>\n",
       "    </tr>\n",
       "    <tr>\n",
       "      <th>2</th>\n",
       "      <td>49.0</td>\n",
       "      <td>171.23</td>\n",
       "      <td>34.4</td>\n",
       "    </tr>\n",
       "    <tr>\n",
       "      <th>3</th>\n",
       "      <td>79.0</td>\n",
       "      <td>174.12</td>\n",
       "      <td>24.0</td>\n",
       "    </tr>\n",
       "    <tr>\n",
       "      <th>4</th>\n",
       "      <td>81.0</td>\n",
       "      <td>186.21</td>\n",
       "      <td>29.0</td>\n",
       "    </tr>\n",
       "    <tr>\n",
       "      <th>...</th>\n",
       "      <td>...</td>\n",
       "      <td>...</td>\n",
       "      <td>...</td>\n",
       "    </tr>\n",
       "    <tr>\n",
       "      <th>4904</th>\n",
       "      <td>13.0</td>\n",
       "      <td>103.08</td>\n",
       "      <td>18.6</td>\n",
       "    </tr>\n",
       "    <tr>\n",
       "      <th>4905</th>\n",
       "      <td>81.0</td>\n",
       "      <td>125.20</td>\n",
       "      <td>40.0</td>\n",
       "    </tr>\n",
       "    <tr>\n",
       "      <th>4906</th>\n",
       "      <td>35.0</td>\n",
       "      <td>82.99</td>\n",
       "      <td>30.6</td>\n",
       "    </tr>\n",
       "    <tr>\n",
       "      <th>4907</th>\n",
       "      <td>51.0</td>\n",
       "      <td>166.29</td>\n",
       "      <td>25.6</td>\n",
       "    </tr>\n",
       "    <tr>\n",
       "      <th>4908</th>\n",
       "      <td>44.0</td>\n",
       "      <td>85.28</td>\n",
       "      <td>26.2</td>\n",
       "    </tr>\n",
       "  </tbody>\n",
       "</table>\n",
       "<p>4909 rows × 3 columns</p>\n",
       "</div>"
      ],
      "text/plain": [
       "       age  avg_glucose_level   bmi\n",
       "0     67.0             228.69  36.6\n",
       "1     80.0             105.92  32.5\n",
       "2     49.0             171.23  34.4\n",
       "3     79.0             174.12  24.0\n",
       "4     81.0             186.21  29.0\n",
       "...    ...                ...   ...\n",
       "4904  13.0             103.08  18.6\n",
       "4905  81.0             125.20  40.0\n",
       "4906  35.0              82.99  30.6\n",
       "4907  51.0             166.29  25.6\n",
       "4908  44.0              85.28  26.2\n",
       "\n",
       "[4909 rows x 3 columns]"
      ]
     },
     "execution_count": 13,
     "metadata": {},
     "output_type": "execute_result"
    }
   ],
   "source": [
    "num_columns=[\"age\",\"avg_glucose_level\",\"bmi\"]\n",
    "stroke_data[num_columns]"
   ]
  },
  {
   "cell_type": "markdown",
   "id": "bffe013f-8517-4492-9715-4edc7beab070",
   "metadata": {},
   "source": [
    "Univeriate Analysis of age, avg_glucose_level, and bmi"
   ]
  },
  {
   "cell_type": "code",
   "execution_count": 14,
   "id": "5ba4e331-b395-4c1d-ba47-4e0fd516a978",
   "metadata": {},
   "outputs": [
    {
     "data": {
      "image/png": "[encoded data removed]",
      "text/plain": [
       "<Figure size 1440x360 with 3 Axes>"
      ]
     },
     "metadata": {
      "needs_background": "light"
     },
     "output_type": "display_data"
    }
   ],
   "source": [
    "# Lets check for outliers in our numerical columns using boxplots\n",
    "count=1\n",
    "plt.figure(figsize=(20,5))\n",
    "           \n",
    "for i in num_columns:\n",
    "    plt.subplot(1,3,count)\n",
    "    count=count+1\n",
    "    sns.boxplot(x=i, data=stroke_data)\n",
    "    plt.title(i)"
   ]
  },
  {
   "cell_type": "code",
   "execution_count": 15,
   "id": "7d8d4752-4551-494f-8a75-9f7bfe5afebc",
   "metadata": {},
   "outputs": [
    {
     "data": {
      "text/html": [
       "<div>\n",
       "<style scoped>\n",
       "    .dataframe tbody tr th:only-of-type {\n",
       "        vertical-align: middle;\n",
       "    }\n",
       "\n",
       "    .dataframe tbody tr th {\n",
       "        vertical-align: top;\n",
       "    }\n",
       "\n",
       "    .dataframe thead th {\n",
       "        text-align: right;\n",
       "    }\n",
       "</style>\n",
       "<table border=\"1\" class=\"dataframe\">\n",
       "  <thead>\n",
       "    <tr style=\"text-align: right;\">\n",
       "      <th></th>\n",
       "      <th>gender</th>\n",
       "      <th>age</th>\n",
       "      <th>hypertension</th>\n",
       "      <th>heart_disease</th>\n",
       "      <th>ever_married</th>\n",
       "      <th>work_type</th>\n",
       "      <th>Residence_type</th>\n",
       "      <th>avg_glucose_level</th>\n",
       "      <th>bmi</th>\n",
       "      <th>smoking_status</th>\n",
       "      <th>stroke</th>\n",
       "    </tr>\n",
       "  </thead>\n",
       "  <tbody>\n",
       "    <tr>\n",
       "      <th>2019</th>\n",
       "      <td>Male</td>\n",
       "      <td>17.0</td>\n",
       "      <td>1</td>\n",
       "      <td>0</td>\n",
       "      <td>No</td>\n",
       "      <td>Private</td>\n",
       "      <td>Rural</td>\n",
       "      <td>61.67</td>\n",
       "      <td>97.6</td>\n",
       "      <td>Unknown</td>\n",
       "      <td>0</td>\n",
       "    </tr>\n",
       "    <tr>\n",
       "      <th>4030</th>\n",
       "      <td>Male</td>\n",
       "      <td>38.0</td>\n",
       "      <td>1</td>\n",
       "      <td>0</td>\n",
       "      <td>Yes</td>\n",
       "      <td>Private</td>\n",
       "      <td>Rural</td>\n",
       "      <td>56.90</td>\n",
       "      <td>92.0</td>\n",
       "      <td>never smoked</td>\n",
       "      <td>0</td>\n",
       "    </tr>\n",
       "  </tbody>\n",
       "</table>\n",
       "</div>"
      ],
      "text/plain": [
       "     gender   age  hypertension  heart_disease ever_married work_type  \\\n",
       "2019   Male  17.0             1              0           No   Private   \n",
       "4030   Male  38.0             1              0          Yes   Private   \n",
       "\n",
       "     Residence_type  avg_glucose_level   bmi smoking_status  stroke  \n",
       "2019          Rural              61.67  97.6        Unknown       0  \n",
       "4030          Rural              56.90  92.0   never smoked       0  "
      ]
     },
     "execution_count": 15,
     "metadata": {},
     "output_type": "execute_result"
    }
   ],
   "source": [
    "stroke_data[stroke_data[\"bmi\"]>90]"
   ]
  },
  {
   "cell_type": "code",
   "execution_count": 16,
   "id": "8ac83be3-2002-4100-a272-419169206ab2",
   "metadata": {},
   "outputs": [],
   "source": [
    "#Delete indexes of bmi over 90\n",
    "stroke_data = stroke_data.drop(stroke_data.index[[2019,4030]])"
   ]
  },
  {
   "cell_type": "code",
   "execution_count": 17,
   "id": "785d5026-460c-4817-892e-9d13af29e685",
   "metadata": {},
   "outputs": [
    {
     "data": {
      "image/png": "[encoded data removed]",
      "text/plain": [
       "<Figure size 1440x360 with 3 Axes>"
      ]
     },
     "metadata": {
      "needs_background": "light"
     },
     "output_type": "display_data"
    }
   ],
   "source": [
    "#Check numerical columns distributions\n",
    "count=1\n",
    "plt.figure(figsize=(20,5))\n",
    "for i in num_columns:\n",
    "    plt.subplot(1,3,count)\n",
    "    count=count+1\n",
    "    sns.histplot(x=i, data=stroke_data)\n",
    "    plt.title(i)"
   ]
  },
  {
   "cell_type": "markdown",
   "id": "bd28ab1e-48b0-4e70-a069-63639fcb812a",
   "metadata": {},
   "source": [
    "Age is not normally distributed. \n",
    "avg_glucose_level and bmi graphs looks skewed."
   ]
  },
  {
   "cell_type": "code",
   "execution_count": 18,
   "id": "2e56d0a5-f895-4301-9f0e-48d337e56788",
   "metadata": {},
   "outputs": [
    {
     "name": "stdout",
     "output_type": "stream",
     "text": [
      "avg_glucose_level skew:  1.6139497873463127\n",
      "bmi skew:  0.8597733959795986\n"
     ]
    }
   ],
   "source": [
    "print(\"avg_glucose_level skew: \",stroke_data.avg_glucose_level.skew())\n",
    "print(\"bmi skew: \",stroke_data.bmi.skew())"
   ]
  },
  {
   "cell_type": "code",
   "execution_count": 19,
   "id": "257e5539-757b-4903-9818-7b41c108a4a1",
   "metadata": {},
   "outputs": [],
   "source": [
    "#Lets take log of avg_glucose and bmi\n",
    "stroke_data['log_glucose']=np.log(stroke_data.avg_glucose_level)\n",
    "stroke_data['log_bmi']=np.log(stroke_data.bmi)"
   ]
  },
  {
   "cell_type": "code",
   "execution_count": 20,
   "id": "53fba8ab-6cd0-4c1f-adf7-df406ceb6f5c",
   "metadata": {},
   "outputs": [
    {
     "data": {
      "text/plain": [
       "<AxesSubplot:xlabel='log_bmi', ylabel='Count'>"
      ]
     },
     "execution_count": 20,
     "metadata": {},
     "output_type": "execute_result"
    },
    {
     "data": {
      "image/png": "[encoded data removed]",
      "text/plain": [
       "<Figure size 1440x720 with 2 Axes>"
      ]
     },
     "metadata": {
      "needs_background": "light"
     },
     "output_type": "display_data"
    }
   ],
   "source": [
    "#Check avg_glucose and bmi log distributions\n",
    "plt.figure(figsize=(20,10))\n",
    "plt.subplot(1,2,1)\n",
    "sns.histplot(x=stroke_data['log_glucose'], data=stroke_data)\n",
    "plt.subplot(1,2,2)\n",
    "sns.histplot(x=stroke_data['log_bmi'], data=stroke_data)"
   ]
  },
  {
   "cell_type": "code",
   "execution_count": 21,
   "id": "fc0707e3-4166-456f-9602-3c04b95cb629",
   "metadata": {},
   "outputs": [
    {
     "name": "stdout",
     "output_type": "stream",
     "text": [
      "avg_glucose_level skew:  0.8927928285958613\n",
      "bmi skew:  -0.03380998285826808\n"
     ]
    }
   ],
   "source": [
    "print(\"avg_glucose_level skew: \",stroke_data.log_glucose.skew())\n",
    "print(\"bmi skew: \",stroke_data.log_bmi.skew())"
   ]
  },
  {
   "cell_type": "markdown",
   "id": "fe60a9e9-7903-4b48-933a-2f996db54ad7",
   "metadata": {},
   "source": [
    "Taking log did normalize the bmi but not avg_glucose_level"
   ]
  },
  {
   "cell_type": "code",
   "execution_count": 22,
   "id": "a7535c76-4216-4db1-9ad6-c107c0b34dd9",
   "metadata": {},
   "outputs": [
    {
     "data": {
      "text/plain": [
       "<AxesSubplot:xlabel='age_bins'>"
      ]
     },
     "execution_count": 22,
     "metadata": {},
     "output_type": "execute_result"
    },
    {
     "data": {
      "image/png": "[encoded data removed]",
      "text/plain": [
       "<Figure size 432x288 with 1 Axes>"
      ]
     },
     "metadata": {
      "needs_background": "light"
     },
     "output_type": "display_data"
    }
   ],
   "source": [
    "#Analyze Age with Stroke (analyzing age as a categorical variable)\n",
    "\n",
    "stroke_data['age_bins']=pd.cut(stroke_data.age, bins=[0,20,40,60,80,100])\n",
    "age=stroke_data.groupby(['age_bins','stroke'])['age'].count().unstack()\n",
    "age.plot(kind='bar', stacked=True)"
   ]
  },
  {
   "cell_type": "markdown",
   "id": "26c7d7d7-fb60-48a7-87bb-102fb5d427f2",
   "metadata": {},
   "source": [
    "Individuals age 40 and above are more likely to have a stroke."
   ]
  },
  {
   "cell_type": "code",
   "execution_count": 23,
   "id": "67afddd8-e537-4fd9-a90d-92f72493078a",
   "metadata": {},
   "outputs": [],
   "source": [
    "stroke_data.drop('age_bins', axis=1, inplace=True)"
   ]
  },
  {
   "cell_type": "code",
   "execution_count": 24,
   "id": "bdd3a9b7-9e04-45a6-974a-4c2e029f1674",
   "metadata": {},
   "outputs": [
    {
     "data": {
      "image/png": "[encoded data removed]",
      "text/plain": [
       "<Figure size 1440x720 with 5 Axes>"
      ]
     },
     "metadata": {
      "needs_background": "light"
     },
     "output_type": "display_data"
    }
   ],
   "source": [
    "#Analyzing categorical variables with stroke\n",
    "cat_col=['hypertension','ever_married','work_type','Residence_type','smoking_status']  \n",
    "plt.figure(figsize=(20,10))\n",
    "j=1\n",
    "for i in cat_col:\n",
    "    plt.subplot(2,3,j)\n",
    "    j=j+1\n",
    "    sns.countplot(x=i, hue='stroke', data=stroke_data)\n",
    "    plt.title(i)\n",
    "plt.tight_layout()"
   ]
  },
  {
   "cell_type": "markdown",
   "id": "98d77a2a-559d-4824-8d7a-d05be5b076f1",
   "metadata": {},
   "source": [
    "### Hypothesis 1\n",
    "    Null: There is no significant differences between glucose level of people having a stroke and not.\n",
    "    Alternative: People with higher glucose level are likely to have a stroke."
   ]
  },
  {
   "cell_type": "code",
   "execution_count": 25,
   "id": "d524d07c-af6e-49fa-a12f-13474c101adc",
   "metadata": {},
   "outputs": [
    {
     "data": {
      "text/html": [
       "<div>\n",
       "<style scoped>\n",
       "    .dataframe tbody tr th:only-of-type {\n",
       "        vertical-align: middle;\n",
       "    }\n",
       "\n",
       "    .dataframe tbody tr th {\n",
       "        vertical-align: top;\n",
       "    }\n",
       "\n",
       "    .dataframe thead th {\n",
       "        text-align: right;\n",
       "    }\n",
       "</style>\n",
       "<table border=\"1\" class=\"dataframe\">\n",
       "  <thead>\n",
       "    <tr style=\"text-align: right;\">\n",
       "      <th></th>\n",
       "      <th>age</th>\n",
       "      <th>avg_glucose_level</th>\n",
       "      <th>bmi</th>\n",
       "    </tr>\n",
       "    <tr>\n",
       "      <th>stroke</th>\n",
       "      <th></th>\n",
       "      <th></th>\n",
       "      <th></th>\n",
       "    </tr>\n",
       "  </thead>\n",
       "  <tbody>\n",
       "    <tr>\n",
       "      <th>0</th>\n",
       "      <td>41.766522</td>\n",
       "      <td>104.022774</td>\n",
       "      <td>28.794977</td>\n",
       "    </tr>\n",
       "    <tr>\n",
       "      <th>1</th>\n",
       "      <td>67.712919</td>\n",
       "      <td>134.571388</td>\n",
       "      <td>30.471292</td>\n",
       "    </tr>\n",
       "  </tbody>\n",
       "</table>\n",
       "</div>"
      ],
      "text/plain": [
       "              age  avg_glucose_level        bmi\n",
       "stroke                                         \n",
       "0       41.766522         104.022774  28.794977\n",
       "1       67.712919         134.571388  30.471292"
      ]
     },
     "execution_count": 25,
     "metadata": {},
     "output_type": "execute_result"
    }
   ],
   "source": [
    "count_num_col=stroke_data.groupby('stroke')['age','avg_glucose_level','bmi',].mean()\n",
    "count_num_col"
   ]
  },
  {
   "cell_type": "code",
   "execution_count": 26,
   "id": "04f97802-4474-4a5b-98e9-ecd679bfb159",
   "metadata": {},
   "outputs": [
    {
     "data": {
      "image/png": "[encoded data removed]",
      "text/plain": [
       "<Figure size 432x288 with 2 Axes>"
      ]
     },
     "metadata": {
      "needs_background": "light"
     },
     "output_type": "display_data"
    }
   ],
   "source": [
    "#Bivariate analysis of numerical columns with stroke target\n",
    "plt.subplot(1,2,1)\n",
    "sns.barplot(x='stroke', y='bmi', data=stroke_data)\n",
    "plt.subplot(1,2,2)\n",
    "sns.barplot(x='stroke', y='avg_glucose_level', data=stroke_data)\n",
    "\n",
    "plt.tight_layout()"
   ]
  },
  {
   "cell_type": "markdown",
   "id": "b37f2b10-96b3-4a0a-b932-9dabd0199e6d",
   "metadata": {},
   "source": [
    "In both catergories, individuals with no stroke have lower bmi and glucose level."
   ]
  },
  {
   "cell_type": "code",
   "execution_count": 27,
   "id": "e4d4731e-c470-4a32-90e1-be08bdf54b7e",
   "metadata": {},
   "outputs": [],
   "source": [
    "g_0=stroke_data[stroke_data[\"stroke\"]==0]['avg_glucose_level']\n",
    "g_1=stroke_data[stroke_data[\"stroke\"]==1]['avg_glucose_level']"
   ]
  },
  {
   "cell_type": "code",
   "execution_count": 28,
   "id": "621b7489-a805-4642-b202-b391f3bc041b",
   "metadata": {},
   "outputs": [
    {
     "data": {
      "text/plain": [
       "134.5713875598086"
      ]
     },
     "execution_count": 28,
     "metadata": {},
     "output_type": "execute_result"
    }
   ],
   "source": [
    "g_1.mean()"
   ]
  },
  {
   "cell_type": "code",
   "execution_count": 29,
   "id": "c9e97e53-54e1-4e9f-a4b9-bf1ed685d3c7",
   "metadata": {},
   "outputs": [
    {
     "data": {
      "text/plain": [
       "Ttest_indResult(statistic=-9.821633674829336, pvalue=1.4651864675384611e-22)"
      ]
     },
     "execution_count": 29,
     "metadata": {},
     "output_type": "execute_result"
    }
   ],
   "source": [
    "#Testing our hypothesis with a t-test. Alpha of 0.05 is used.\n",
    "stats.ttest_ind(g_0,g_1)"
   ]
  },
  {
   "cell_type": "markdown",
   "id": "f2c39c87-36b0-4de8-a998-3d519e45d579",
   "metadata": {},
   "source": [
    "p-value is less than 0.05. Null hypothesis is rejected, so, people with higher glucose level are likely to have a stroke."
   ]
  },
  {
   "cell_type": "markdown",
   "id": "5ce56b4a-7025-436f-b422-1f2cd0047398",
   "metadata": {},
   "source": [
    "### Hypothesis 2:\n",
    "    Null: There is no significant difference between which gender is more likely to have a stroke.\n",
    "    Alternative: There is a significant difference between which gender is more likely to have a stroke."
   ]
  },
  {
   "cell_type": "code",
   "execution_count": 30,
   "id": "8161e0d6-e5d3-4fe0-8ed9-e6ddeb5e4323",
   "metadata": {},
   "outputs": [
    {
     "data": {
      "text/plain": [
       "<AxesSubplot:xlabel='gender', ylabel='count'>"
      ]
     },
     "execution_count": 30,
     "metadata": {},
     "output_type": "execute_result"
    },
    {
     "data": {
      "image/png": "[encoded data removed]",
      "text/plain": [
       "<Figure size 432x288 with 1 Axes>"
      ]
     },
     "metadata": {
      "needs_background": "light"
     },
     "output_type": "display_data"
    }
   ],
   "source": [
    "#Lets analyse the gender column with stroke column\n",
    "sns.countplot(x='gender', hue='stroke', data=stroke_data)"
   ]
  },
  {
   "cell_type": "code",
   "execution_count": 31,
   "id": "f672091a-3f56-4c3c-a952-18094e77ea31",
   "metadata": {},
   "outputs": [
    {
     "data": {
      "text/plain": [
       "stroke  gender\n",
       "0       Female    2777\n",
       "        Male      1920\n",
       "        Other        1\n",
       "1       Female     120\n",
       "        Male        89\n",
       "Name: gender, dtype: int64"
      ]
     },
     "execution_count": 31,
     "metadata": {},
     "output_type": "execute_result"
    }
   ],
   "source": [
    "stroke_data.groupby(\"stroke\")[\"gender\"].value_counts()"
   ]
  },
  {
   "cell_type": "markdown",
   "id": "757132f3-ad64-4b60-9a3a-ada9f04bc8f2",
   "metadata": {},
   "source": [
    "In both stroke categories, females rank higher. "
   ]
  },
  {
   "cell_type": "code",
   "execution_count": 32,
   "id": "43cb1de9-1bc1-4eb7-8cf4-771bc087266f",
   "metadata": {},
   "outputs": [
    {
     "data": {
      "text/html": [
       "<div>\n",
       "<style scoped>\n",
       "    .dataframe tbody tr th:only-of-type {\n",
       "        vertical-align: middle;\n",
       "    }\n",
       "\n",
       "    .dataframe tbody tr th {\n",
       "        vertical-align: top;\n",
       "    }\n",
       "\n",
       "    .dataframe thead th {\n",
       "        text-align: right;\n",
       "    }\n",
       "</style>\n",
       "<table border=\"1\" class=\"dataframe\">\n",
       "  <thead>\n",
       "    <tr style=\"text-align: right;\">\n",
       "      <th>stroke</th>\n",
       "      <th>0</th>\n",
       "      <th>1</th>\n",
       "    </tr>\n",
       "    <tr>\n",
       "      <th>gender</th>\n",
       "      <th></th>\n",
       "      <th></th>\n",
       "    </tr>\n",
       "  </thead>\n",
       "  <tbody>\n",
       "    <tr>\n",
       "      <th>Female</th>\n",
       "      <td>2777</td>\n",
       "      <td>120</td>\n",
       "    </tr>\n",
       "    <tr>\n",
       "      <th>Male</th>\n",
       "      <td>1920</td>\n",
       "      <td>89</td>\n",
       "    </tr>\n",
       "    <tr>\n",
       "      <th>Other</th>\n",
       "      <td>1</td>\n",
       "      <td>0</td>\n",
       "    </tr>\n",
       "  </tbody>\n",
       "</table>\n",
       "</div>"
      ],
      "text/plain": [
       "stroke     0    1\n",
       "gender           \n",
       "Female  2777  120\n",
       "Male    1920   89\n",
       "Other      1    0"
      ]
     },
     "execution_count": 32,
     "metadata": {},
     "output_type": "execute_result"
    }
   ],
   "source": [
    "contingency=pd.crosstab(stroke_data.gender, stroke_data.stroke)\n",
    "contingency"
   ]
  },
  {
   "cell_type": "code",
   "execution_count": 33,
   "id": "555cca17-1a14-4ded-85a7-dee022c986a2",
   "metadata": {},
   "outputs": [
    {
     "data": {
      "text/plain": [
       "(0.28554324338200093, 0.8669520393292778)"
      ]
     },
     "execution_count": 33,
     "metadata": {},
     "output_type": "execute_result"
    }
   ],
   "source": [
    "#Run the chisquared test\n",
    "chi2, p_val, dof, exp_freq = chi2_contingency(contingency, correction = False)\n",
    "chi2, p_val"
   ]
  },
  {
   "cell_type": "markdown",
   "id": "d22de5d4-71ae-42a9-acf2-2460742e1d98",
   "metadata": {},
   "source": [
    "P-value of 0.86 indicates there is no significant difference between which gender will have a stroke. Null hypothesis is retained."
   ]
  },
  {
   "cell_type": "markdown",
   "id": "c5311005-96fb-40a4-bf10-eabc5b45d9a7",
   "metadata": {},
   "source": [
    "### Hypothesis 3\n",
    "    Null: Heart disease does not contribute to stoke.\n",
    "    Alternative: Heart attack does contribute to a stroke."
   ]
  },
  {
   "cell_type": "code",
   "execution_count": 34,
   "id": "aadd5a6e-6ad2-4bc3-a8cf-414e0018151e",
   "metadata": {},
   "outputs": [
    {
     "data": {
      "text/plain": [
       "0    4664\n",
       "1     243\n",
       "Name: heart_disease, dtype: int64"
      ]
     },
     "execution_count": 34,
     "metadata": {},
     "output_type": "execute_result"
    }
   ],
   "source": [
    "# Lest analyze the heart attack colum with stroke column\n",
    "\n",
    "stroke_data['heart_disease'].value_counts()"
   ]
  },
  {
   "cell_type": "code",
   "execution_count": 35,
   "id": "8e186722-b5b9-453e-8f71-5a707992fc54",
   "metadata": {},
   "outputs": [
    {
     "data": {
      "text/html": [
       "<div>\n",
       "<style scoped>\n",
       "    .dataframe tbody tr th:only-of-type {\n",
       "        vertical-align: middle;\n",
       "    }\n",
       "\n",
       "    .dataframe tbody tr th {\n",
       "        vertical-align: top;\n",
       "    }\n",
       "\n",
       "    .dataframe thead th {\n",
       "        text-align: right;\n",
       "    }\n",
       "</style>\n",
       "<table border=\"1\" class=\"dataframe\">\n",
       "  <thead>\n",
       "    <tr style=\"text-align: right;\">\n",
       "      <th>stroke</th>\n",
       "      <th>0</th>\n",
       "      <th>1</th>\n",
       "    </tr>\n",
       "    <tr>\n",
       "      <th>heart_disease</th>\n",
       "      <th></th>\n",
       "      <th></th>\n",
       "    </tr>\n",
       "  </thead>\n",
       "  <tbody>\n",
       "    <tr>\n",
       "      <th>0</th>\n",
       "      <td>4495</td>\n",
       "      <td>169</td>\n",
       "    </tr>\n",
       "    <tr>\n",
       "      <th>1</th>\n",
       "      <td>203</td>\n",
       "      <td>40</td>\n",
       "    </tr>\n",
       "  </tbody>\n",
       "</table>\n",
       "</div>"
      ],
      "text/plain": [
       "stroke            0    1\n",
       "heart_disease           \n",
       "0              4495  169\n",
       "1               203   40"
      ]
     },
     "execution_count": 35,
     "metadata": {},
     "output_type": "execute_result"
    }
   ],
   "source": [
    "heart_disease=pd.crosstab(stroke_data.heart_disease, stroke_data.stroke)\n",
    "heart_disease"
   ]
  },
  {
   "cell_type": "code",
   "execution_count": 36,
   "id": "79a73535-5bf9-406d-8e85-4c7fee5925fa",
   "metadata": {},
   "outputs": [
    {
     "data": {
      "image/png": "[encoded data removed]",
      "text/plain": [
       "<Figure size 432x288 with 1 Axes>"
      ]
     },
     "metadata": {
      "needs_background": "light"
     },
     "output_type": "display_data"
    }
   ],
   "source": [
    "sns.countplot(x='heart_disease', hue='stroke', data=stroke_data)\n",
    "plt.show()"
   ]
  },
  {
   "cell_type": "code",
   "execution_count": 37,
   "id": "ab349caa-128d-4b94-ac1a-d251a4ce7c63",
   "metadata": {},
   "outputs": [
    {
     "data": {
      "text/plain": [
       "(93.3417936344861, 4.400021446645539e-22)"
      ]
     },
     "execution_count": 37,
     "metadata": {},
     "output_type": "execute_result"
    }
   ],
   "source": [
    "chi2, pval, dof, exp_freq=chi2_contingency(heart_disease, correction = False)\n",
    "chi2, pval"
   ]
  },
  {
   "cell_type": "markdown",
   "id": "53ff93ee-7553-4a96-a240-0b7862f68242",
   "metadata": {},
   "source": [
    "p-value is less than 0.05, indicating that heart disease does contribute to stroke."
   ]
  },
  {
   "cell_type": "markdown",
   "id": "687c0a53-48eb-48a1-b449-14c2264025f5",
   "metadata": {},
   "source": [
    "### Feature Engineering"
   ]
  },
  {
   "cell_type": "code",
   "execution_count": 38,
   "id": "ca2cba48-0c24-4c74-a75f-2fd757c3a81c",
   "metadata": {},
   "outputs": [
    {
     "data": {
      "text/html": [
       "<div>\n",
       "<style scoped>\n",
       "    .dataframe tbody tr th:only-of-type {\n",
       "        vertical-align: middle;\n",
       "    }\n",
       "\n",
       "    .dataframe tbody tr th {\n",
       "        vertical-align: top;\n",
       "    }\n",
       "\n",
       "    .dataframe thead th {\n",
       "        text-align: right;\n",
       "    }\n",
       "</style>\n",
       "<table border=\"1\" class=\"dataframe\">\n",
       "  <thead>\n",
       "    <tr style=\"text-align: right;\">\n",
       "      <th></th>\n",
       "      <th>gender</th>\n",
       "      <th>age</th>\n",
       "      <th>hypertension</th>\n",
       "      <th>heart_disease</th>\n",
       "      <th>ever_married</th>\n",
       "      <th>work_type</th>\n",
       "      <th>Residence_type</th>\n",
       "      <th>avg_glucose_level</th>\n",
       "      <th>bmi</th>\n",
       "      <th>smoking_status</th>\n",
       "      <th>stroke</th>\n",
       "      <th>log_glucose</th>\n",
       "      <th>log_bmi</th>\n",
       "    </tr>\n",
       "  </thead>\n",
       "  <tbody>\n",
       "    <tr>\n",
       "      <th>0</th>\n",
       "      <td>Male</td>\n",
       "      <td>67.0</td>\n",
       "      <td>0</td>\n",
       "      <td>1</td>\n",
       "      <td>Yes</td>\n",
       "      <td>Private</td>\n",
       "      <td>Urban</td>\n",
       "      <td>228.69</td>\n",
       "      <td>36.6</td>\n",
       "      <td>formerly smoked</td>\n",
       "      <td>1</td>\n",
       "      <td>5.432367</td>\n",
       "      <td>3.600048</td>\n",
       "    </tr>\n",
       "    <tr>\n",
       "      <th>1</th>\n",
       "      <td>Male</td>\n",
       "      <td>80.0</td>\n",
       "      <td>0</td>\n",
       "      <td>1</td>\n",
       "      <td>Yes</td>\n",
       "      <td>Private</td>\n",
       "      <td>Rural</td>\n",
       "      <td>105.92</td>\n",
       "      <td>32.5</td>\n",
       "      <td>never smoked</td>\n",
       "      <td>1</td>\n",
       "      <td>4.662684</td>\n",
       "      <td>3.481240</td>\n",
       "    </tr>\n",
       "    <tr>\n",
       "      <th>2</th>\n",
       "      <td>Female</td>\n",
       "      <td>49.0</td>\n",
       "      <td>0</td>\n",
       "      <td>0</td>\n",
       "      <td>Yes</td>\n",
       "      <td>Private</td>\n",
       "      <td>Urban</td>\n",
       "      <td>171.23</td>\n",
       "      <td>34.4</td>\n",
       "      <td>smokes</td>\n",
       "      <td>1</td>\n",
       "      <td>5.143008</td>\n",
       "      <td>3.538057</td>\n",
       "    </tr>\n",
       "    <tr>\n",
       "      <th>3</th>\n",
       "      <td>Female</td>\n",
       "      <td>79.0</td>\n",
       "      <td>1</td>\n",
       "      <td>0</td>\n",
       "      <td>Yes</td>\n",
       "      <td>Self-employed</td>\n",
       "      <td>Rural</td>\n",
       "      <td>174.12</td>\n",
       "      <td>24.0</td>\n",
       "      <td>never smoked</td>\n",
       "      <td>1</td>\n",
       "      <td>5.159745</td>\n",
       "      <td>3.178054</td>\n",
       "    </tr>\n",
       "    <tr>\n",
       "      <th>4</th>\n",
       "      <td>Male</td>\n",
       "      <td>81.0</td>\n",
       "      <td>0</td>\n",
       "      <td>0</td>\n",
       "      <td>Yes</td>\n",
       "      <td>Private</td>\n",
       "      <td>Urban</td>\n",
       "      <td>186.21</td>\n",
       "      <td>29.0</td>\n",
       "      <td>formerly smoked</td>\n",
       "      <td>1</td>\n",
       "      <td>5.226875</td>\n",
       "      <td>3.367296</td>\n",
       "    </tr>\n",
       "  </tbody>\n",
       "</table>\n",
       "</div>"
      ],
      "text/plain": [
       "   gender   age  hypertension  heart_disease ever_married      work_type  \\\n",
       "0    Male  67.0             0              1          Yes        Private   \n",
       "1    Male  80.0             0              1          Yes        Private   \n",
       "2  Female  49.0             0              0          Yes        Private   \n",
       "3  Female  79.0             1              0          Yes  Self-employed   \n",
       "4    Male  81.0             0              0          Yes        Private   \n",
       "\n",
       "  Residence_type  avg_glucose_level   bmi   smoking_status  stroke  \\\n",
       "0          Urban             228.69  36.6  formerly smoked       1   \n",
       "1          Rural             105.92  32.5     never smoked       1   \n",
       "2          Urban             171.23  34.4           smokes       1   \n",
       "3          Rural             174.12  24.0     never smoked       1   \n",
       "4          Urban             186.21  29.0  formerly smoked       1   \n",
       "\n",
       "   log_glucose   log_bmi  \n",
       "0     5.432367  3.600048  \n",
       "1     4.662684  3.481240  \n",
       "2     5.143008  3.538057  \n",
       "3     5.159745  3.178054  \n",
       "4     5.226875  3.367296  "
      ]
     },
     "execution_count": 38,
     "metadata": {},
     "output_type": "execute_result"
    }
   ],
   "source": [
    "#Look at the data again.\n",
    "\n",
    "stroke_data.head()"
   ]
  },
  {
   "cell_type": "code",
   "execution_count": 39,
   "id": "fa822dda-e2a2-4929-b961-1929010c33f9",
   "metadata": {},
   "outputs": [
    {
     "name": "stdout",
     "output_type": "stream",
     "text": [
      "Gender: ['Male' 'Female' 'Other']\n",
      "Ever Married: ['Yes' 'No']\n",
      "Work Type: ['Private' 'Self-employed' 'Govt_job' 'children' 'Never_worked']\n",
      "Residence_type: ['Urban' 'Rural']\n",
      "smoking_status: ['formerly smoked' 'never smoked' 'smokes' 'Unknown']\n"
     ]
    }
   ],
   "source": [
    "#Get unique values of each categorical variable\n",
    "print(\"Gender:\", stroke_data.gender.unique())\n",
    "print(\"Ever Married:\", stroke_data.ever_married.unique())\n",
    "print(\"Work Type:\", stroke_data.work_type.unique())\n",
    "print(\"Residence_type:\", stroke_data.Residence_type.unique())\n",
    "print(\"smoking_status:\", stroke_data.smoking_status.unique())"
   ]
  },
  {
   "cell_type": "code",
   "execution_count": 40,
   "id": "b3b3ff9d-6af0-43a1-96f3-1689634d4201",
   "metadata": {},
   "outputs": [],
   "source": [
    "# We need to convert categorical variables to numerical to be able to feed into ML algorithms if highly correlated.\n",
    "\n",
    "stroke_data['gender'].replace({'Other':0,'Male':0,'Female':1}, inplace=True)\n",
    "stroke_data['ever_married'].replace({'No':0,'Yes':1}, inplace=True)\n",
    "stroke_data['Residence_type'].replace({'Urban':0,'Rural':1}, inplace=True)"
   ]
  },
  {
   "cell_type": "code",
   "execution_count": 41,
   "id": "3811e719-3172-4e04-a326-a51da1eaa16a",
   "metadata": {},
   "outputs": [
    {
     "data": {
      "text/plain": [
       "<AxesSubplot:>"
      ]
     },
     "execution_count": 41,
     "metadata": {},
     "output_type": "execute_result"
    },
    {
     "data": {
      "image/png": "[encoded data removed]",
      "text/plain": [
       "<Figure size 720x216 with 2 Axes>"
      ]
     },
     "metadata": {
      "needs_background": "light"
     },
     "output_type": "display_data"
    }
   ],
   "source": [
    "#Get value counts for work type and smoking status\n",
    "plt.figure(figsize=(10,3))\n",
    "plt.subplot(1,2,1)\n",
    "stroke_data.work_type.value_counts().plot(kind='bar')\n",
    "plt.subplot(1,2,2)\n",
    "stroke_data.smoking_status.value_counts().plot(kind='bar')"
   ]
  },
  {
   "cell_type": "code",
   "execution_count": 42,
   "id": "dfeebc6a-4437-40c1-925b-6a16f3619ef9",
   "metadata": {},
   "outputs": [],
   "source": [
    "#Lets one hot encode work type and smoking status\n",
    "\n",
    "stroke_data=pd.get_dummies(data=stroke_data, columns=['work_type','smoking_status'])"
   ]
  },
  {
   "cell_type": "code",
   "execution_count": 43,
   "id": "6c7e4e37-2fd8-4e03-a6c9-b7adc101ee40",
   "metadata": {},
   "outputs": [
    {
     "name": "stdout",
     "output_type": "stream",
     "text": [
      "<class 'pandas.core.frame.DataFrame'>\n",
      "Int64Index: 4907 entries, 0 to 4908\n",
      "Data columns (total 20 columns):\n",
      " #   Column                          Non-Null Count  Dtype  \n",
      "---  ------                          --------------  -----  \n",
      " 0   gender                          4907 non-null   int64  \n",
      " 1   age                             4907 non-null   float64\n",
      " 2   hypertension                    4907 non-null   int64  \n",
      " 3   heart_disease                   4907 non-null   int64  \n",
      " 4   ever_married                    4907 non-null   int64  \n",
      " 5   Residence_type                  4907 non-null   int64  \n",
      " 6   avg_glucose_level               4907 non-null   float64\n",
      " 7   bmi                             4907 non-null   float64\n",
      " 8   stroke                          4907 non-null   int64  \n",
      " 9   log_glucose                     4907 non-null   float64\n",
      " 10  log_bmi                         4907 non-null   float64\n",
      " 11  work_type_Govt_job              4907 non-null   uint8  \n",
      " 12  work_type_Never_worked          4907 non-null   uint8  \n",
      " 13  work_type_Private               4907 non-null   uint8  \n",
      " 14  work_type_Self-employed         4907 non-null   uint8  \n",
      " 15  work_type_children              4907 non-null   uint8  \n",
      " 16  smoking_status_Unknown          4907 non-null   uint8  \n",
      " 17  smoking_status_formerly smoked  4907 non-null   uint8  \n",
      " 18  smoking_status_never smoked     4907 non-null   uint8  \n",
      " 19  smoking_status_smokes           4907 non-null   uint8  \n",
      "dtypes: float64(5), int64(6), uint8(9)\n",
      "memory usage: 632.2 KB\n"
     ]
    },
    {
     "data": {
      "text/html": [
       "<div>\n",
       "<style scoped>\n",
       "    .dataframe tbody tr th:only-of-type {\n",
       "        vertical-align: middle;\n",
       "    }\n",
       "\n",
       "    .dataframe tbody tr th {\n",
       "        vertical-align: top;\n",
       "    }\n",
       "\n",
       "    .dataframe thead th {\n",
       "        text-align: right;\n",
       "    }\n",
       "</style>\n",
       "<table border=\"1\" class=\"dataframe\">\n",
       "  <thead>\n",
       "    <tr style=\"text-align: right;\">\n",
       "      <th></th>\n",
       "      <th>gender</th>\n",
       "      <th>age</th>\n",
       "      <th>hypertension</th>\n",
       "      <th>heart_disease</th>\n",
       "      <th>ever_married</th>\n",
       "      <th>Residence_type</th>\n",
       "      <th>avg_glucose_level</th>\n",
       "      <th>bmi</th>\n",
       "      <th>stroke</th>\n",
       "      <th>log_glucose</th>\n",
       "      <th>log_bmi</th>\n",
       "      <th>work_type_Govt_job</th>\n",
       "      <th>work_type_Never_worked</th>\n",
       "      <th>work_type_Private</th>\n",
       "      <th>work_type_Self-employed</th>\n",
       "      <th>work_type_children</th>\n",
       "      <th>smoking_status_Unknown</th>\n",
       "      <th>smoking_status_formerly smoked</th>\n",
       "      <th>smoking_status_never smoked</th>\n",
       "      <th>smoking_status_smokes</th>\n",
       "    </tr>\n",
       "  </thead>\n",
       "  <tbody>\n",
       "    <tr>\n",
       "      <th>0</th>\n",
       "      <td>0</td>\n",
       "      <td>67.0</td>\n",
       "      <td>0</td>\n",
       "      <td>1</td>\n",
       "      <td>1</td>\n",
       "      <td>0</td>\n",
       "      <td>228.69</td>\n",
       "      <td>36.6</td>\n",
       "      <td>1</td>\n",
       "      <td>5.432367</td>\n",
       "      <td>3.600048</td>\n",
       "      <td>0</td>\n",
       "      <td>0</td>\n",
       "      <td>1</td>\n",
       "      <td>0</td>\n",
       "      <td>0</td>\n",
       "      <td>0</td>\n",
       "      <td>1</td>\n",
       "      <td>0</td>\n",
       "      <td>0</td>\n",
       "    </tr>\n",
       "    <tr>\n",
       "      <th>1</th>\n",
       "      <td>0</td>\n",
       "      <td>80.0</td>\n",
       "      <td>0</td>\n",
       "      <td>1</td>\n",
       "      <td>1</td>\n",
       "      <td>1</td>\n",
       "      <td>105.92</td>\n",
       "      <td>32.5</td>\n",
       "      <td>1</td>\n",
       "      <td>4.662684</td>\n",
       "      <td>3.481240</td>\n",
       "      <td>0</td>\n",
       "      <td>0</td>\n",
       "      <td>1</td>\n",
       "      <td>0</td>\n",
       "      <td>0</td>\n",
       "      <td>0</td>\n",
       "      <td>0</td>\n",
       "      <td>1</td>\n",
       "      <td>0</td>\n",
       "    </tr>\n",
       "    <tr>\n",
       "      <th>2</th>\n",
       "      <td>1</td>\n",
       "      <td>49.0</td>\n",
       "      <td>0</td>\n",
       "      <td>0</td>\n",
       "      <td>1</td>\n",
       "      <td>0</td>\n",
       "      <td>171.23</td>\n",
       "      <td>34.4</td>\n",
       "      <td>1</td>\n",
       "      <td>5.143008</td>\n",
       "      <td>3.538057</td>\n",
       "      <td>0</td>\n",
       "      <td>0</td>\n",
       "      <td>1</td>\n",
       "      <td>0</td>\n",
       "      <td>0</td>\n",
       "      <td>0</td>\n",
       "      <td>0</td>\n",
       "      <td>0</td>\n",
       "      <td>1</td>\n",
       "    </tr>\n",
       "    <tr>\n",
       "      <th>3</th>\n",
       "      <td>1</td>\n",
       "      <td>79.0</td>\n",
       "      <td>1</td>\n",
       "      <td>0</td>\n",
       "      <td>1</td>\n",
       "      <td>1</td>\n",
       "      <td>174.12</td>\n",
       "      <td>24.0</td>\n",
       "      <td>1</td>\n",
       "      <td>5.159745</td>\n",
       "      <td>3.178054</td>\n",
       "      <td>0</td>\n",
       "      <td>0</td>\n",
       "      <td>0</td>\n",
       "      <td>1</td>\n",
       "      <td>0</td>\n",
       "      <td>0</td>\n",
       "      <td>0</td>\n",
       "      <td>1</td>\n",
       "      <td>0</td>\n",
       "    </tr>\n",
       "    <tr>\n",
       "      <th>4</th>\n",
       "      <td>0</td>\n",
       "      <td>81.0</td>\n",
       "      <td>0</td>\n",
       "      <td>0</td>\n",
       "      <td>1</td>\n",
       "      <td>0</td>\n",
       "      <td>186.21</td>\n",
       "      <td>29.0</td>\n",
       "      <td>1</td>\n",
       "      <td>5.226875</td>\n",
       "      <td>3.367296</td>\n",
       "      <td>0</td>\n",
       "      <td>0</td>\n",
       "      <td>1</td>\n",
       "      <td>0</td>\n",
       "      <td>0</td>\n",
       "      <td>0</td>\n",
       "      <td>1</td>\n",
       "      <td>0</td>\n",
       "      <td>0</td>\n",
       "    </tr>\n",
       "  </tbody>\n",
       "</table>\n",
       "</div>"
      ],
      "text/plain": [
       "   gender   age  hypertension  heart_disease  ever_married  Residence_type  \\\n",
       "0       0  67.0             0              1             1               0   \n",
       "1       0  80.0             0              1             1               1   \n",
       "2       1  49.0             0              0             1               0   \n",
       "3       1  79.0             1              0             1               1   \n",
       "4       0  81.0             0              0             1               0   \n",
       "\n",
       "   avg_glucose_level   bmi  stroke  log_glucose   log_bmi  work_type_Govt_job  \\\n",
       "0             228.69  36.6       1     5.432367  3.600048                   0   \n",
       "1             105.92  32.5       1     4.662684  3.481240                   0   \n",
       "2             171.23  34.4       1     5.143008  3.538057                   0   \n",
       "3             174.12  24.0       1     5.159745  3.178054                   0   \n",
       "4             186.21  29.0       1     5.226875  3.367296                   0   \n",
       "\n",
       "   work_type_Never_worked  work_type_Private  work_type_Self-employed  \\\n",
       "0                       0                  1                        0   \n",
       "1                       0                  1                        0   \n",
       "2                       0                  1                        0   \n",
       "3                       0                  0                        1   \n",
       "4                       0                  1                        0   \n",
       "\n",
       "   work_type_children  smoking_status_Unknown  smoking_status_formerly smoked  \\\n",
       "0                   0                       0                               1   \n",
       "1                   0                       0                               0   \n",
       "2                   0                       0                               0   \n",
       "3                   0                       0                               0   \n",
       "4                   0                       0                               1   \n",
       "\n",
       "   smoking_status_never smoked  smoking_status_smokes  \n",
       "0                            0                      0  \n",
       "1                            1                      0  \n",
       "2                            0                      1  \n",
       "3                            1                      0  \n",
       "4                            0                      0  "
      ]
     },
     "execution_count": 43,
     "metadata": {},
     "output_type": "execute_result"
    }
   ],
   "source": [
    "#Lets double check \n",
    "stroke_data.info()\n",
    "stroke_data.head()"
   ]
  },
  {
   "cell_type": "code",
   "execution_count": 44,
   "id": "8c5ad5e4-23ad-4294-9cf6-02814a215904",
   "metadata": {},
   "outputs": [],
   "source": [
    "#Delete log_glucose and bmi \n",
    "stroke_data.drop(['log_glucose','bmi'], axis=1, inplace=True)"
   ]
  },
  {
   "cell_type": "code",
   "execution_count": 45,
   "id": "44b9b4c1-b626-4a18-be97-581cd48c3ac4",
   "metadata": {},
   "outputs": [
    {
     "data": {
      "text/plain": [
       "<AxesSubplot:>"
      ]
     },
     "execution_count": 45,
     "metadata": {},
     "output_type": "execute_result"
    },
    {
     "data": {
      "image/png": "[encoded data removed]",
      "text/plain": [
       "<Figure size 1080x1080 with 2 Axes>"
      ]
     },
     "metadata": {
      "needs_background": "light"
     },
     "output_type": "display_data"
    }
   ],
   "source": [
    "#All of our variables are numerical. Lets check correlations\n",
    "plt.figure(figsize=(15,15))\n",
    "sns.heatmap(stroke_data.corr(), annot=True)"
   ]
  },
  {
   "cell_type": "code",
   "execution_count": 46,
   "id": "77c7dbd1-1e27-4c5d-86dc-60fcc2d9554e",
   "metadata": {},
   "outputs": [
    {
     "data": {
      "text/plain": [
       "stroke                            1.000000\n",
       "age                               0.232307\n",
       "hypertension                      0.143075\n",
       "avg_glucose_level                 0.138879\n",
       "heart_disease                     0.137921\n",
       "ever_married                      0.105088\n",
       "smoking_status_formerly smoked    0.057284\n",
       "work_type_Self-employed           0.055321\n",
       "log_bmi                           0.054754\n",
       "smoking_status_smokes             0.021495\n",
       "work_type_Private                 0.015011\n",
       "smoking_status_never smoked       0.010748\n",
       "work_type_Govt_job                0.003520\n",
       "Residence_type                   -0.005946\n",
       "gender                           -0.006956\n",
       "work_type_Never_worked           -0.014155\n",
       "smoking_status_Unknown           -0.075000\n",
       "work_type_children               -0.081009\n",
       "Name: stroke, dtype: float64"
      ]
     },
     "execution_count": 46,
     "metadata": {},
     "output_type": "execute_result"
    }
   ],
   "source": [
    "#Check correlation\n",
    "stroke_data.corr()['stroke'].sort_values(ascending=False)"
   ]
  },
  {
   "cell_type": "code",
   "execution_count": 47,
   "id": "0fb25244-9813-425b-85a6-51817f03aba9",
   "metadata": {},
   "outputs": [],
   "source": [
    "#Lets use PCA to select 0.95 percent of variance \n",
    "\n",
    "X=stroke_data.drop('stroke', axis=1)\n",
    "y=stroke_data.stroke"
   ]
  },
  {
   "cell_type": "code",
   "execution_count": 48,
   "id": "2ec91728-79a2-4f5d-b130-ed316a014a36",
   "metadata": {},
   "outputs": [
    {
     "data": {
      "text/plain": [
       "array([[-1.20053885,  1.06979076, -0.31736069, ...,  2.20513141,\n",
       "        -0.77826327, -0.42040291],\n",
       "       [-1.20053885,  1.64617796, -0.31736069, ..., -0.45348771,\n",
       "         1.28491224, -0.42040291],\n",
       "       [ 0.8329593 ,  0.27171618, -0.31736069, ..., -0.45348771,\n",
       "        -0.77826327,  2.37867048],\n",
       "       ...,\n",
       "       [ 0.8329593 , -0.3490085 , -0.31736069, ..., -0.45348771,\n",
       "         1.28491224, -0.42040291],\n",
       "       [-1.20053885,  0.36039113, -0.31736069, ...,  2.20513141,\n",
       "        -0.77826327, -0.42040291],\n",
       "       [ 0.8329593 ,  0.05002879, -0.31736069, ..., -0.45348771,\n",
       "        -0.77826327, -0.42040291]])"
      ]
     },
     "execution_count": 48,
     "metadata": {},
     "output_type": "execute_result"
    }
   ],
   "source": [
    "#Scale the features\n",
    "X_scaled=StandardScaler().fit_transform(X)\n",
    "X_scaled"
   ]
  },
  {
   "cell_type": "code",
   "execution_count": 49,
   "id": "cd3a1bac-b0d8-4a1b-b8dd-df3392a44b32",
   "metadata": {},
   "outputs": [],
   "source": [
    "#Now apply the PCA to reduce number of dimension\n",
    "pca=PCA(n_components=0.95)\n",
    "X_pca=pca.fit_transform(X_scaled)"
   ]
  },
  {
   "cell_type": "code",
   "execution_count": 50,
   "id": "c87523fc-0354-48c3-9e6c-99383d2fddc9",
   "metadata": {},
   "outputs": [
    {
     "data": {
      "text/plain": [
       "array([[-2.66906766,  1.21786071, -2.79322449, ..., -0.43097899,\n",
       "        -1.57463419,  0.71736653],\n",
       "       [-2.24931288, -0.22931063, -0.212635  , ...,  0.13679012,\n",
       "         0.60059663,  0.49383126],\n",
       "       [-1.39411667, -0.93758446, -1.49021086, ..., -0.10754397,\n",
       "        -1.4917778 , -0.23679858],\n",
       "       ...,\n",
       "       [-0.73279856,  0.87328912,  2.12962976, ...,  0.06926781,\n",
       "        -0.30429434,  0.45717832],\n",
       "       [-1.07686872,  0.06398979, -1.78913865, ..., -0.28674982,\n",
       "        -1.05769537, -1.01720373],\n",
       "       [ 0.56778409,  1.32712419,  0.63513479, ...,  1.33658131,\n",
       "         0.63947254, -0.31538631]])"
      ]
     },
     "execution_count": 50,
     "metadata": {},
     "output_type": "execute_result"
    }
   ],
   "source": [
    "X_pca"
   ]
  },
  {
   "cell_type": "markdown",
   "id": "37e4c061-e33e-4878-b374-dcbd47ab8588",
   "metadata": {},
   "source": [
    "X_pca will be used to train the model in the future."
   ]
  },
  {
   "cell_type": "code",
   "execution_count": 51,
   "id": "faa7b3da-23d5-4a49-a78b-4d6a316efe74",
   "metadata": {},
   "outputs": [
    {
     "data": {
      "text/plain": [
       "12"
      ]
     },
     "execution_count": 51,
     "metadata": {},
     "output_type": "execute_result"
    }
   ],
   "source": [
    "#Chekcing how many n_components I need to retain 95% variance\n",
    "pca_dim=PCA()\n",
    "pca_dim.fit(X_scaled)\n",
    "cumsum = np.cumsum(pca.explained_variance_ratio_)\n",
    "d = np.argmax(cumsum >=0.95)\n",
    "d"
   ]
  },
  {
   "cell_type": "markdown",
   "id": "80bc646b-927d-4e34-8c2f-1bd8cd87964d",
   "metadata": {},
   "source": [
    "I need 12 n_components to retain 95% of variance."
   ]
  },
  {
   "cell_type": "markdown",
   "id": "ad46ddd9-d957-46aa-bf70-bdb03a9a7677",
   "metadata": {
    "tags": []
   },
   "source": [
    "### Project Report - Exploratory Data Analysis\n",
    "Summary:\n",
    "\n",
    "    The dataset contains information on individuals who were prone to a stroke. The possible variables that have the potential  of increasing the risks of getting a stroke include:\n",
    "    gender: \"Male\", \"Female\" or \"Other\"\n",
    "    age: age of the patient\n",
    "    hypertension: 0 if the patient doesn't have hypertension, 1 if the patient has hypertension\n",
    "    heart_disease: 0 if the patient doesn't have any heart diseases, 1 if the patient has a heart disease\n",
    "    ever_married: \"No\" or \"Yes\"\n",
    "    work_type: \"children\", \"Govt_jov\", \"Never_worked\", \"Private\" or \"Self-employed\"\n",
    "    Residence_type: \"Rural\" or \"Urban\"\n",
    "    avg_glucose_level: average glucose level in blood\n",
    "    bmi: body mass index\n",
    "    smoking_status: \"formerly smoked\", \"never smoked\", \"smokes\" or \"Unknown\"*\n",
    "    stroke: 1 if the patient had a stroke or 0 if not\n",
    "\n",
    "\tNote: The data contains a column ‘id’, a unique identifier for individuals.\n",
    "\tSource of the data: https://www.kaggle.com/datasets/fedesoriano/stroke-prediction-dataset\n",
    "\n",
    "Initial Plan for Data Exploration:\n",
    "\n",
    "    Understanding the variable relationships in the data by applying visualization techniques, statistical analysis, and hypothesis testing. \n",
    "    Plan first began by understanding the population differences of individuals who were subject to a stroke. \n",
    "    Then, understand the distributions of numerical variables using histograms and apply necessary transformations to normalize the data. \n",
    "    Next, a countplot was applied to visualize the categorical variables grouped by the target variable ‘stroke’ to understand their relationships. \n",
    "    After, three hypothesis tests were conducted to understand the significance of two groups in relation to stroke variables using a t-test for numerical and a chi-square test for categorical variables. \n",
    "\n",
    "Actions taken for Data Cleaning and Feature Engineering:\n",
    "\n",
    "    Analyze the data frame for missing values and outliers using python methods and boxplots.\n",
    "    Remove missing values and outliers, and remove unnecessary variables like “id”\n",
    "    Transform categorical variables into numerical by applying bivariate encoding and one-hot encoding.\n",
    "    Analyze the correlations between each variable with the target variable using heatmaps.\n",
    "    Apply PCA to choose the number of features that have more correlation with the target.\n",
    "\n",
    "Key Findings:\n",
    "\n",
    "    The data is imbalanced with individuals with a stroke only accounting for 4.25%\n",
    "    Individuals 40 and older are likely to get a stroke\n",
    "    Higher glucose level increases the risk of stroke\n",
    "    The most correlated variable with the target is age\n",
    "    12 features are needed to keep 95% of the variance or information of the data\n",
    "\n",
    "Formulating Three Hypothesis and Results:\n",
    "    \n",
    "    First Hypothesis:\n",
    "- Null: There is no significant difference between the glucose level of people having a stroke and not.\n",
    "- Alternative: People with higher glucose levels are likely to have a stroke.\n",
    "\n",
    "- Result: Using the t-test, the p-value is less than 0.05. The null hypothesis is rejected, so, people with higher glucose levels are likely to have a stroke. \n",
    "\n",
    "    Second Hypothesis:\n",
    "- Null: There is no significant difference between which gender is more likely to have a stroke.\n",
    "- Alternative: There is a significant difference between which gender is more likely to have a stroke.\n",
    "\n",
    "- Result: Using the chi-squared test, the p-value of 0.86 indicates there is no significant difference between which gender will have a stroke. The null hypothesis is retained.\n",
    "\n",
    "    Third Hypothesis:\n",
    "- Null: Heart disease does not contribute to stroke.\n",
    "- Alternative: Heart attack does contribute to a stroke.\n",
    "\n",
    "- Result: Using the chi-squared test, the p-value is less than 0.05, indicating that heart disease does contribute to stroke.\n",
    "\n",
    "Suggestions for the next steps in analyzing this data:\n",
    "\n",
    "    Apply statistical tests to understand the significance of the relationship of each class in the categorical variables to the target variable. \n",
    "\n",
    "A paragraph that summarizes the quality of this data set and a request for additional data if needed:\n",
    "\n",
    "    The data contains a good number of features to use in prediction algorithms. However, the data is not balanced where the population of individuals with a stroke only accounts for 4.25% of the data. More data on individuals who got a stroke needs to be collected. Furthermore, additional variables that might potentially have a high correlation with the target variable are recommended. \n"
   ]
  },
  {
   "cell_type": "code",
   "execution_count": null,
   "id": "ddaf86fa-4399-417e-89d9-ee3f9777884e",
   "metadata": {},
   "outputs": [],
   "source": []
  }
 ],
 "metadata": {
  "kernelspec": {
   "display_name": "Python 3 (ipykernel)",
   "language": "python",
   "name": "python3"
  },
  "language_info": {
   "codemirror_mode": {
    "name": "ipython",
    "version": 3
   },
   "file_extension": ".py",
   "mimetype": "text/x-python",
   "name": "python",
   "nbconvert_exporter": "python",
   "pygments_lexer": "ipython3",
   "version": "3.9.7"
  }
 },
 "nbformat": 4,
 "nbformat_minor": 5
}
